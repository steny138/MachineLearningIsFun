{
 "metadata": {
  "language_info": {
   "codemirror_mode": {
    "name": "ipython",
    "version": 3
   },
   "file_extension": ".py",
   "mimetype": "text/x-python",
   "name": "python",
   "nbconvert_exporter": "python",
   "pygments_lexer": "ipython3",
   "version": 3
  },
  "orig_nbformat": 2
 },
 "nbformat": 4,
 "nbformat_minor": 2,
 "cells": [
  {
   "cell_type": "code",
   "execution_count": null,
   "metadata": {},
   "outputs": [],
   "source": [
    "import seaborn as sns\n",
    "import matplotlib.pyplot as plt\n",
    "\n",
    "#check null data\n",
    "col_null_info = house_data.isnull().sum(); \n",
    "col_null_info = col_null_info[col_null_info>0].sort_values(ascending=False)\n",
    "plt.figure(figsize=(15,4))\n",
    "sns.barplot(x=col_null_info.index, y=col_null_info.values)\n",
    "plt.xticks(rotation=90)"
   ]
  },
  {
   "source": [
    "### 分類層級"
   ],
   "cell_type": "markdown",
   "metadata": {}
  },
  {
   "cell_type": "code",
   "execution_count": null,
   "metadata": {},
   "outputs": [],
   "source": [
    "#Map the quality to different grade\n",
    "exter_qual = {'Ex':5, 'Gd':4, 'TA':3, 'Fa':2, 'Po':1,'Na':0,\n",
    "              'No_Fireplace':0, 'No_Garage':0, 'No_Pool':0}\n",
    "feature['ExterQual'] = feature['ExterQual'].map(exter_qual)"
   ]
  }
 ]
}