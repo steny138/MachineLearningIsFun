{
 "metadata": {
  "language_info": {
   "codemirror_mode": {
    "name": "ipython",
    "version": 3
   },
   "file_extension": ".py",
   "mimetype": "text/x-python",
   "name": "python",
   "nbconvert_exporter": "python",
   "pygments_lexer": "ipython3",
   "version": 3
  },
  "orig_nbformat": 2
 },
 "nbformat": 4,
 "nbformat_minor": 2,
 "cells": [
  {
   "cell_type": "code",
   "execution_count": null,
   "metadata": {},
   "outputs": [],
   "source": [
    "import seaborn as sns\n",
    "import matplotlib.pyplot as plt\n",
    "\n",
    "#check null data\n",
    "col_null_info = house_data.isnull().sum(); \n",
    "col_null_info = col_null_info[col_null_info>0].sort_values(ascending=False)\n",
    "plt.figure(figsize=(15,4))\n",
    "sns.barplot(x=col_null_info.index, y=col_null_info.values)\n",
    "plt.xticks(rotation=90)"
   ]
  }
 ]
}